{
  "nbformat": 4,
  "nbformat_minor": 0,
  "metadata": {
    "colab": {
      "name": "Shopify DS Challenge",
      "provenance": [],
      "authorship_tag": "ABX9TyMd9oKuZ4h5HHUdpxoMz3X7",
      "include_colab_link": true
    },
    "kernelspec": {
      "name": "python3",
      "display_name": "Python 3"
    },
    "language_info": {
      "name": "python"
    }
  },
  "cells": [
    {
      "cell_type": "markdown",
      "metadata": {
        "id": "view-in-github",
        "colab_type": "text"
      },
      "source": [
        "<a href=\"https://colab.research.google.com/github/Satyake/Shopily-Challenge-Link/blob/main/Shopify_DS_Challenge.ipynb\" target=\"_parent\"><img src=\"https://colab.research.google.com/assets/colab-badge.svg\" alt=\"Open In Colab\"/></a>"
      ]
    },
    {
      "cell_type": "code",
      "metadata": {
        "id": "4i5p4VDrR2Al"
      },
      "source": [
        "import pandas as pd\n",
        "import numpy as np \n",
        "import matplotlib.pyplot as plt\n"
      ],
      "execution_count": 1,
      "outputs": []
    },
    {
      "cell_type": "code",
      "metadata": {
        "id": "8paKAkukV-LJ"
      },
      "source": [
        "data=pd.read_excel('/content/2019 Winter Data Science Intern Challenge Data Set.xlsx')"
      ],
      "execution_count": 2,
      "outputs": []
    },
    {
      "cell_type": "code",
      "metadata": {
        "colab": {
          "base_uri": "https://localhost:8080/",
          "height": 194
        },
        "id": "5Vkp2nGGWCDS",
        "outputId": "dc0c14a5-84ca-40d8-9f69-4a33e81cac56"
      },
      "source": [
        "data.head()    "
      ],
      "execution_count": 3,
      "outputs": [
        {
          "output_type": "execute_result",
          "data": {
            "text/html": [
              "<div>\n",
              "<style scoped>\n",
              "    .dataframe tbody tr th:only-of-type {\n",
              "        vertical-align: middle;\n",
              "    }\n",
              "\n",
              "    .dataframe tbody tr th {\n",
              "        vertical-align: top;\n",
              "    }\n",
              "\n",
              "    .dataframe thead th {\n",
              "        text-align: right;\n",
              "    }\n",
              "</style>\n",
              "<table border=\"1\" class=\"dataframe\">\n",
              "  <thead>\n",
              "    <tr style=\"text-align: right;\">\n",
              "      <th></th>\n",
              "      <th>order_id</th>\n",
              "      <th>shop_id</th>\n",
              "      <th>user_id</th>\n",
              "      <th>order_amount</th>\n",
              "      <th>total_items</th>\n",
              "      <th>payment_method</th>\n",
              "      <th>created_at</th>\n",
              "    </tr>\n",
              "  </thead>\n",
              "  <tbody>\n",
              "    <tr>\n",
              "      <th>0</th>\n",
              "      <td>1</td>\n",
              "      <td>53</td>\n",
              "      <td>746</td>\n",
              "      <td>224</td>\n",
              "      <td>2</td>\n",
              "      <td>cash</td>\n",
              "      <td>2017-03-13 12:36:56.190</td>\n",
              "    </tr>\n",
              "    <tr>\n",
              "      <th>1</th>\n",
              "      <td>2</td>\n",
              "      <td>92</td>\n",
              "      <td>925</td>\n",
              "      <td>90</td>\n",
              "      <td>1</td>\n",
              "      <td>cash</td>\n",
              "      <td>2017-03-03 17:38:51.999</td>\n",
              "    </tr>\n",
              "    <tr>\n",
              "      <th>2</th>\n",
              "      <td>3</td>\n",
              "      <td>44</td>\n",
              "      <td>861</td>\n",
              "      <td>144</td>\n",
              "      <td>1</td>\n",
              "      <td>cash</td>\n",
              "      <td>2017-03-14 04:23:55.595</td>\n",
              "    </tr>\n",
              "    <tr>\n",
              "      <th>3</th>\n",
              "      <td>4</td>\n",
              "      <td>18</td>\n",
              "      <td>935</td>\n",
              "      <td>156</td>\n",
              "      <td>1</td>\n",
              "      <td>credit_card</td>\n",
              "      <td>2017-03-26 12:43:36.649</td>\n",
              "    </tr>\n",
              "    <tr>\n",
              "      <th>4</th>\n",
              "      <td>5</td>\n",
              "      <td>18</td>\n",
              "      <td>883</td>\n",
              "      <td>156</td>\n",
              "      <td>1</td>\n",
              "      <td>credit_card</td>\n",
              "      <td>2017-03-01 04:35:10.773</td>\n",
              "    </tr>\n",
              "  </tbody>\n",
              "</table>\n",
              "</div>"
            ],
            "text/plain": [
              "   order_id  shop_id  ...  payment_method              created_at\n",
              "0         1       53  ...            cash 2017-03-13 12:36:56.190\n",
              "1         2       92  ...            cash 2017-03-03 17:38:51.999\n",
              "2         3       44  ...            cash 2017-03-14 04:23:55.595\n",
              "3         4       18  ...     credit_card 2017-03-26 12:43:36.649\n",
              "4         5       18  ...     credit_card 2017-03-01 04:35:10.773\n",
              "\n",
              "[5 rows x 7 columns]"
            ]
          },
          "metadata": {
            "tags": []
          },
          "execution_count": 3
        }
      ]
    },
    {
      "cell_type": "code",
      "metadata": {
        "colab": {
          "base_uri": "https://localhost:8080/",
          "height": 282
        },
        "id": "Vyv9eHHDWEgY",
        "outputId": "cff27522-d81a-4753-88c3-88d69fb9cf38"
      },
      "source": [
        "data.describe()"
      ],
      "execution_count": 4,
      "outputs": [
        {
          "output_type": "execute_result",
          "data": {
            "text/html": [
              "<div>\n",
              "<style scoped>\n",
              "    .dataframe tbody tr th:only-of-type {\n",
              "        vertical-align: middle;\n",
              "    }\n",
              "\n",
              "    .dataframe tbody tr th {\n",
              "        vertical-align: top;\n",
              "    }\n",
              "\n",
              "    .dataframe thead th {\n",
              "        text-align: right;\n",
              "    }\n",
              "</style>\n",
              "<table border=\"1\" class=\"dataframe\">\n",
              "  <thead>\n",
              "    <tr style=\"text-align: right;\">\n",
              "      <th></th>\n",
              "      <th>order_id</th>\n",
              "      <th>shop_id</th>\n",
              "      <th>user_id</th>\n",
              "      <th>order_amount</th>\n",
              "      <th>total_items</th>\n",
              "    </tr>\n",
              "  </thead>\n",
              "  <tbody>\n",
              "    <tr>\n",
              "      <th>count</th>\n",
              "      <td>5000.000000</td>\n",
              "      <td>5000.000000</td>\n",
              "      <td>5000.000000</td>\n",
              "      <td>5000.000000</td>\n",
              "      <td>5000.00000</td>\n",
              "    </tr>\n",
              "    <tr>\n",
              "      <th>mean</th>\n",
              "      <td>2500.500000</td>\n",
              "      <td>50.078800</td>\n",
              "      <td>849.092400</td>\n",
              "      <td>3145.128000</td>\n",
              "      <td>8.78720</td>\n",
              "    </tr>\n",
              "    <tr>\n",
              "      <th>std</th>\n",
              "      <td>1443.520003</td>\n",
              "      <td>29.006118</td>\n",
              "      <td>87.798982</td>\n",
              "      <td>41282.539349</td>\n",
              "      <td>116.32032</td>\n",
              "    </tr>\n",
              "    <tr>\n",
              "      <th>min</th>\n",
              "      <td>1.000000</td>\n",
              "      <td>1.000000</td>\n",
              "      <td>607.000000</td>\n",
              "      <td>90.000000</td>\n",
              "      <td>1.00000</td>\n",
              "    </tr>\n",
              "    <tr>\n",
              "      <th>25%</th>\n",
              "      <td>1250.750000</td>\n",
              "      <td>24.000000</td>\n",
              "      <td>775.000000</td>\n",
              "      <td>163.000000</td>\n",
              "      <td>1.00000</td>\n",
              "    </tr>\n",
              "    <tr>\n",
              "      <th>50%</th>\n",
              "      <td>2500.500000</td>\n",
              "      <td>50.000000</td>\n",
              "      <td>849.000000</td>\n",
              "      <td>284.000000</td>\n",
              "      <td>2.00000</td>\n",
              "    </tr>\n",
              "    <tr>\n",
              "      <th>75%</th>\n",
              "      <td>3750.250000</td>\n",
              "      <td>75.000000</td>\n",
              "      <td>925.000000</td>\n",
              "      <td>390.000000</td>\n",
              "      <td>3.00000</td>\n",
              "    </tr>\n",
              "    <tr>\n",
              "      <th>max</th>\n",
              "      <td>5000.000000</td>\n",
              "      <td>100.000000</td>\n",
              "      <td>999.000000</td>\n",
              "      <td>704000.000000</td>\n",
              "      <td>2000.00000</td>\n",
              "    </tr>\n",
              "  </tbody>\n",
              "</table>\n",
              "</div>"
            ],
            "text/plain": [
              "          order_id      shop_id      user_id   order_amount  total_items\n",
              "count  5000.000000  5000.000000  5000.000000    5000.000000   5000.00000\n",
              "mean   2500.500000    50.078800   849.092400    3145.128000      8.78720\n",
              "std    1443.520003    29.006118    87.798982   41282.539349    116.32032\n",
              "min       1.000000     1.000000   607.000000      90.000000      1.00000\n",
              "25%    1250.750000    24.000000   775.000000     163.000000      1.00000\n",
              "50%    2500.500000    50.000000   849.000000     284.000000      2.00000\n",
              "75%    3750.250000    75.000000   925.000000     390.000000      3.00000\n",
              "max    5000.000000   100.000000   999.000000  704000.000000   2000.00000"
            ]
          },
          "metadata": {
            "tags": []
          },
          "execution_count": 4
        }
      ]
    },
    {
      "cell_type": "code",
      "metadata": {
        "colab": {
          "base_uri": "https://localhost:8080/"
        },
        "id": "hKprgoZoYt3u",
        "outputId": "c9d8fd00-6d9d-45b4-f4b1-2df854da537a"
      },
      "source": [
        "order_amount"
      ],
      "execution_count": 22,
      "outputs": [
        {
          "output_type": "execute_result",
          "data": {
            "text/plain": [
              "array([224,  90, 144, ..., 351, 354, 288])"
            ]
          },
          "metadata": {
            "tags": []
          },
          "execution_count": 22
        }
      ]
    },
    {
      "cell_type": "markdown",
      "metadata": {
        "id": "nV2y0RKAXMvc"
      },
      "source": [
        "**To Calculate the Average:**"
      ]
    },
    {
      "cell_type": "code",
      "metadata": {
        "id": "zCMfIoE7XnaT"
      },
      "source": [
        "order_amount=data.iloc[:,3].values\n",
        "total_items=data.iloc[:,4].values"
      ],
      "execution_count": 11,
      "outputs": []
    },
    {
      "cell_type": "code",
      "metadata": {
        "colab": {
          "base_uri": "https://localhost:8080/"
        },
        "id": "eiNfk-QDXv0J",
        "outputId": "aad4f15d-cff3-4b89-8874-2e8f2fcbec8a"
      },
      "source": [
        "order_amount_sum=np.sum(order_amount)\n",
        "print(order_amount_sum)"
      ],
      "execution_count": 8,
      "outputs": [
        {
          "output_type": "stream",
          "text": [
            "15725640\n"
          ],
          "name": "stdout"
        }
      ]
    },
    {
      "cell_type": "code",
      "metadata": {
        "colab": {
          "base_uri": "https://localhost:8080/"
        },
        "id": "oE3oc5boYAOM",
        "outputId": "46b96a97-5b5b-48d4-ae01-88b42d6aa0bb"
      },
      "source": [
        "total_amounts_sum=np.sum(total_items)\n",
        "print(total_amounts_sum)"
      ],
      "execution_count": 12,
      "outputs": [
        {
          "output_type": "stream",
          "text": [
            "43936\n"
          ],
          "name": "stdout"
        }
      ]
    },
    {
      "cell_type": "code",
      "metadata": {
        "colab": {
          "base_uri": "https://localhost:8080/"
        },
        "id": "k3mWxVmBYUUV",
        "outputId": "059efb3e-7ea6-41fb-ba89-8bd14832221f"
      },
      "source": [
        "round(order_amount_sum/total_amounts_sum,2)"
      ],
      "execution_count": 14,
      "outputs": [
        {
          "output_type": "execute_result",
          "data": {
            "text/plain": [
              "357.92"
            ]
          },
          "metadata": {
            "tags": []
          },
          "execution_count": 14
        }
      ]
    },
    {
      "cell_type": "markdown",
      "metadata": {
        "id": "USCkC9YIuesv"
      },
      "source": [
        "**#357.92 is the correct average  going by the order amounts**"
      ]
    },
    {
      "cell_type": "code",
      "metadata": {
        "colab": {
          "base_uri": "https://localhost:8080/"
        },
        "id": "IZJZ28UqYsuS",
        "outputId": "a3f88dd4-476c-4c71-e470-fb125b2fb12c"
      },
      "source": [
        "len(total_items)\n",
        "order_amount_sum/len(total_items)\n",
        "\n"
      ],
      "execution_count": 26,
      "outputs": [
        {
          "output_type": "execute_result",
          "data": {
            "text/plain": [
              "3145.128"
            ]
          },
          "metadata": {
            "tags": []
          },
          "execution_count": 26
        }
      ]
    },
    {
      "cell_type": "markdown",
      "metadata": {
        "id": "OOGUNvWUuVQF"
      },
      "source": [
        "**Issue is the followng If we count the total items instead of adding then we are getting the incorrect answer\n",
        "calling the length function over total items lead to the incorrect result.\n",
        "it is a very simple mistake that may have happened when the person was working with the data**"
      ]
    }
  ]
}